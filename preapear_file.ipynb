{
  "nbformat": 4,
  "nbformat_minor": 0,
  "metadata": {
    "colab": {
      "name": "preapear_file.ipynb",
      "provenance": [],
      "collapsed_sections": []
    },
    "kernelspec": {
      "display_name": "Python 3",
      "name": "python3"
    },
    "language_info": {
      "name": "python"
    }
  },
  "cells": [
    {
      "cell_type": "code",
      "metadata": {
        "colab": {
          "base_uri": "https://localhost:8080/"
        },
        "id": "c5uOidpdxyx9",
        "outputId": "4b6bf349-17ff-4954-96fe-e31df1eae617"
      },
      "source": [
        "from google.colab import drive\n",
        "drive.mount('/content/drive')"
      ],
      "execution_count": 1,
      "outputs": [
        {
          "output_type": "stream",
          "text": [
            "Mounted at /content/drive\n"
          ],
          "name": "stdout"
        }
      ]
    },
    {
      "cell_type": "code",
      "metadata": {
        "id": "aDGEkbqghjn-"
      },
      "source": [
        "import json\n",
        "from google.colab import drive\n",
        "import numpy as np\n",
        "import pandas as pd \n",
        "from keras.models import Sequential\n",
        "from keras.layers import LSTM,Dense,Dropout,Embedding,CuDNNLSTM,Bidirectional\n",
        "from keras.preprocessing.text import Tokenizer\n",
        "from keras.preprocessing.sequence import pad_sequences\n",
        "from keras.layers import concatenate, SpatialDropout1D\n",
        "from keras.layers.core import  Activation\n",
        "from keras.layers.wrappers import TimeDistributed\n",
        "from keras.layers.recurrent import LSTM\n",
        "from keras.layers.embeddings import Embedding\n",
        "from keras.regularizers import l2\n",
        "from sklearn.model_selection import train_test_split\n"
      ],
      "execution_count": 54,
      "outputs": []
    },
    {
      "cell_type": "code",
      "metadata": {
        "id": "xPqHrbgDICBl"
      },
      "source": [
        "f=open('/content/drive/My Drive/dataset_public.json')\n",
        "data=json.load(f)\n"
      ],
      "execution_count": 55,
      "outputs": []
    },
    {
      "cell_type": "code",
      "metadata": {
        "id": "Vpmb3Dof6Xjj"
      },
      "source": [
        "#Вывод изначального датасета\n",
        "data"
      ],
      "execution_count": null,
      "outputs": []
    },
    {
      "cell_type": "code",
      "metadata": {
        "id": "AnQU3g5LLNDj"
      },
      "source": [
        "#Удаляю столбцы , которые не понадабятся для тренировки\n",
        "for i in range (len (data) ):\n",
        "  for j in range ( len ( data[i]['news' ] ) ):\n",
        "    data[i]['news'][j].pop('background')\n",
        "    data[i]['news'][j].pop('codes')\n",
        "    data[i]['news'][j].pop('dateline')\n",
        "    data[i]['news'][j].pop('id')\n",
        "    data[i]['news'][j].pop('language_id')\n",
        "    data[i]['news'][j].pop('published_at')\n",
        "    data[i]['news'][j].pop('slugline')\n",
        "    data[i]['news'][j].pop('subheadline')\n",
        "    data[i]['news'][j].pop('trashline')\n",
        "    data[i]['news'][j].pop('type_id')"
      ],
      "execution_count": 56,
      "outputs": []
    },
    {
      "cell_type": "code",
      "metadata": {
        "id": "yMAvaTH220Ty"
      },
      "source": [
        "#Вывод отредактированного датасета\n",
        "data"
      ],
      "execution_count": null,
      "outputs": []
    },
    {
      "cell_type": "code",
      "metadata": {
        "id": "tu70E0pdOwye"
      },
      "source": [
        "#Создание датафрейма , с которым будет вестись работа\n",
        "f_file=data"
      ],
      "execution_count": 9,
      "outputs": []
    },
    {
      "cell_type": "code",
      "metadata": {
        "id": "KeY93l7IQSF6"
      },
      "source": [
        "#Листы , которые станут столбцами  в датафрейме\n",
        "bodys=[]\n",
        "headlines=[]\n",
        "titels=[]"
      ],
      "execution_count": 10,
      "outputs": []
    },
    {
      "cell_type": "code",
      "metadata": {
        "id": "en5bfjirONdG"
      },
      "source": [
        "#Если у новости нет заголовка ( молния ) то текст новости становится ее заголовком\n",
        "for i in range ( len ( headlines) ):\n",
        "  if None in headlines[i]:\n",
        "    for j in range (len (headlines[i])):\n",
        "      headlines[i][j]=bodys[i][j]"
      ],
      "execution_count": null,
      "outputs": []
    },
    {
      "cell_type": "code",
      "metadata": {
        "id": "2YCzmV8zQk-T"
      },
      "source": [
        "#Заполняю листы , что бы в них был один str . а не лист листов\n",
        "for i in range ( len (f_file) ):\n",
        "  titels.append( f_file[i]['title'] ) "
      ],
      "execution_count": 11,
      "outputs": []
    },
    {
      "cell_type": "code",
      "metadata": {
        "id": "X8s8VHFVRDaa"
      },
      "source": [
        "for i in range ( len (f_file) ):\n",
        "  vrem=[]\n",
        "  for j in range ( len ( f_file[i]['news' ] ) ):\n",
        "    vrem.append( f_file[i]['news'][j]['body'])\n",
        "  bodys.append(vrem)"
      ],
      "execution_count": 12,
      "outputs": []
    },
    {
      "cell_type": "code",
      "metadata": {
        "id": "xQMWeuzFYh7V"
      },
      "source": [
        "for i in range ( len (f_file) ):\n",
        "  vrem=[]\n",
        "  for j in range ( len ( f_file[i]['news' ] ) ):\n",
        "    vrem.append ( f_file[i]['news'][j]['headline'] ) \n",
        "  headlines.append(vrem)"
      ],
      "execution_count": 13,
      "outputs": []
    },
    {
      "cell_type": "code",
      "metadata": {
        "id": "e_FRwucvQ0oL"
      },
      "source": [
        "#Перевожу все в нижний регистр\n",
        "for i in range ( len ( titels) ):\n",
        "  titels[i]=str.lower(titels[i])"
      ],
      "execution_count": 14,
      "outputs": []
    },
    {
      "cell_type": "code",
      "metadata": {
        "id": "OgWpJCFcRJRu"
      },
      "source": [
        "for i in range ( len ( headlines) ):\n",
        "  for j in range ( len ( headlines [i])):\n",
        "    headlines[i][j]=str.lower(headlines[i][j])"
      ],
      "execution_count": null,
      "outputs": []
    },
    {
      "cell_type": "code",
      "metadata": {
        "id": "t6_kcIuqRo5y"
      },
      "source": [
        "for i in range ( len ( bodys) ):\n",
        "  for j in range ( len ( bodys [i])):\n",
        "    bodys[i][j]=str.lower(bodys[i][j])"
      ],
      "execution_count": 17,
      "outputs": []
    },
    {
      "cell_type": "code",
      "metadata": {
        "id": "q-Pwgc33b6SU"
      },
      "source": [
        "#Создаю датафрейм\n",
        "df=pd.json_normalize(data)"
      ],
      "execution_count": 19,
      "outputs": []
    },
    {
      "cell_type": "code",
      "metadata": {
        "id": "PkhCn8bCesse"
      },
      "source": [
        "df=df.drop (['news'],axis=1)"
      ],
      "execution_count": null,
      "outputs": []
    },
    {
      "cell_type": "code",
      "metadata": {
        "id": "rzQYRqZVfGBE"
      },
      "source": [
        "#Заполняю столбцы датафрейма\n",
        "df['body']=bodys\n",
        "df['headline']=headlines\n",
        "df['title']=titels"
      ],
      "execution_count": 22,
      "outputs": []
    },
    {
      "cell_type": "code",
      "metadata": {
        "id": "P-bpMesDIMSQ"
      },
      "source": [
        "#Вывожу готовый датафрейм\n",
        "df"
      ],
      "execution_count": null,
      "outputs": []
    },
    {
      "cell_type": "code",
      "metadata": {
        "id": "nC0H4P-qeO-B"
      },
      "source": [
        "for i in range ( len (bodys)):\n",
        "  df['body'][i]=''.join (df['body'][i])"
      ],
      "execution_count": 90,
      "outputs": []
    },
    {
      "cell_type": "code",
      "metadata": {
        "id": "omleraHDfDnR"
      },
      "source": [
        "for i in range ( len (headlines)):\n",
        "  df['headline'][i]=''.join (df['headline'][i])"
      ],
      "execution_count": 91,
      "outputs": []
    },
    {
      "cell_type": "code",
      "metadata": {
        "id": "ebm0QRZ4jutX"
      },
      "source": [
        "#Сохраняю датафрейм для тренеровки модели\n",
        "df.to_csv('data.csv')\n",
        "!cp data.csv \"drive/My Drive/\""
      ],
      "execution_count": null,
      "outputs": []
    }
  ]
}